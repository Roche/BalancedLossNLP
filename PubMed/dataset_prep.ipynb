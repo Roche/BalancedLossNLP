{
 "cells": [
  {
   "cell_type": "markdown",
   "metadata": {},
   "source": [
    "## Before training"
   ]
  },
  {
   "cell_type": "code",
   "execution_count": 1,
   "metadata": {},
   "outputs": [
    {
     "name": "stdout",
     "output_type": "stream",
     "text": [
      "224897\n",
      "214897 5000 5000\n"
     ]
    }
   ],
   "source": [
    "import json\n",
    "data2020 = json.loads(open('data/data2020.json').read())\n",
    "data2021 = json.loads(open('data/data2021.json').read())\n",
    "data = data2020 + data2021\n",
    "print(len(data))\n",
    "\n",
    "from sklearn.model_selection import train_test_split\n",
    "data_train, data_val_all = train_test_split(data, random_state=123, test_size=10000)\n",
    "data_val, data_test = train_test_split(data_val_all, random_state=123, test_size=5000)\n",
    "print(len(data_train),len(data_val),len(data_test))\n",
    "\n",
    "from collections import Counter\n",
    "term2count = Counter([x for docu in data_train for x in docu['meshMajor']])"
   ]
  },
  {
   "cell_type": "code",
   "execution_count": 2,
   "metadata": {},
   "outputs": [
    {
     "name": "stdout",
     "output_type": "stream",
     "text": [
      "25238 18211\n"
     ]
    }
   ],
   "source": [
    "FREQ_CUTOFF = 5 \n",
    "term_freq = sorted([term for term, count in term2count.items() if count>=FREQ_CUTOFF])\n",
    "labels_ref = sorted([z for z in set([y for x in data_train for y in x['meshMajor']]) if z in term_freq]) \n",
    "print(len(term2count), len(labels_ref))\n",
    "class_freq = [term2count[x] for x in labels_ref]\n",
    "train_num = len(data_train)"
   ]
  },
  {
   "cell_type": "code",
   "execution_count": 3,
   "metadata": {},
   "outputs": [
    {
     "name": "stdout",
     "output_type": "stream",
     "text": [
      "11.0 14.0 25.0 48.0 75.0\n"
     ]
    }
   ],
   "source": [
    "import numpy as np\n",
    "print(\n",
    "    np.quantile(np.array(list(class_freq)),q=0.25),\n",
    "    np.quantile(np.array(list(class_freq)),q=0.33),\n",
    "    np.quantile(np.array(list(class_freq)),q=0.5),\n",
    "    np.quantile(np.array(list(class_freq)),q=0.66),\n",
    "    np.quantile(np.array(list(class_freq)),q=0.75))"
   ]
  },
  {
   "cell_type": "code",
   "execution_count": 4,
   "metadata": {},
   "outputs": [],
   "source": [
    "import pickle\n",
    "pickle.dump(data_train, open('data/data_train.gt2020.rand123','wb')) \n",
    "pickle.dump(data_val, open('data/data_val.gt2020.rand123','wb')) \n",
    "pickle.dump(data_test, open('data/data_test.gt2020.rand123','wb')) \n",
    "pickle.dump(labels_ref, open('data/labels_ref.gt2020.rand123','wb')) \n",
    "pickle.dump(class_freq, open('data/class_freq.gt2020.rand123','wb')) \n",
    "pickle.dump(train_num, open('data/train_num.gt2020.rand123','wb')) "
   ]
  },
  {
   "cell_type": "markdown",
   "metadata": {},
   "source": [
    "#### to choose the proper gamma of map_param in dbloss"
   ]
  },
  {
   "cell_type": "code",
   "execution_count": 5,
   "metadata": {},
   "outputs": [
    {
     "name": "stdout",
     "output_type": "stream",
     "text": [
      "0.08130408890765475 0.015785482633527442\n"
     ]
    }
   ],
   "source": [
    "r_all = []\n",
    "for docu in data_train:\n",
    "    docu_p = [1/term2count[x] for x in docu['meshMajor'] if x in labels_ref]\n",
    "    docu_p_sum = sum(docu_p)\n",
    "    r_all.extend([p/docu_p_sum for p in docu_p])\n",
    "    \n",
    "import numpy as np\n",
    "print(np.mean(r_all),np.median(r_all))\n",
    "## thus 0.05 can be a good one intuitively"
   ]
  },
  {
   "cell_type": "code",
   "execution_count": 6,
   "metadata": {},
   "outputs": [
    {
     "data": {
      "text/plain": [
       "0.0485447857705911"
      ]
     },
     "execution_count": 6,
     "metadata": {},
     "output_type": "execute_result"
    }
   ],
   "source": [
    "(np.mean(r_all) + np.median(r_all)) / 2\n",
    "## thus 0.05 can be a good one intuitively"
   ]
  }
 ],
 "metadata": {
  "kernelspec": {
   "display_name": "Python 3",
   "language": "python",
   "name": "python3"
  },
  "language_info": {
   "codemirror_mode": {
    "name": "ipython",
    "version": 3
   },
   "file_extension": ".py",
   "mimetype": "text/x-python",
   "name": "python",
   "nbconvert_exporter": "python",
   "pygments_lexer": "ipython3",
   "version": "3.7.6"
  }
 },
 "nbformat": 4,
 "nbformat_minor": 4
}
